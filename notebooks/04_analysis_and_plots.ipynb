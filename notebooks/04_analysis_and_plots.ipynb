{
 "cells": [
  {
   "cell_type": "markdown",
   "id": "d2ee0777",
   "metadata": {},
   "source": [
    "# Analysis and Plots\n",
    "This notebook analyzes the results and generates plots for visualization."
   ]
  },
  {
   "cell_type": "code",
   "execution_count": null,
   "id": "634410fa",
   "metadata": {},
   "outputs": [],
   "source": [
    "import matplotlib.pyplot as plt\n",
    "\n",
    "# Generate example data\n",
    "true_states = [1, 2, 3, 4, 5]\n",
    "estimated_states = [1.1, 1.9, 3.2, 3.8, 5.1]\n",
    "\n",
    "# Plot true vs estimated states\n",
    "plt.plot(true_states, label='True States')\n",
    "plt.plot(estimated_states, label='Estimated States', linestyle='--')\n",
    "plt.legend()\n",
    "plt.title('Estimated vs True States')\n",
    "plt.savefig('../plots/estimated_vs_true_states.png')\n",
    "plt.show()"
   ]
  }
 ],
 "metadata": {
  "language_info": {
   "name": "python"
  }
 },
 "nbformat": 4,
 "nbformat_minor": 5
}
