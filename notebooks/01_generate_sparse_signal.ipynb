{
 "cells": [
  {
   "cell_type": "markdown",
   "id": "b2e77819",
   "metadata": {},
   "source": [
    "# Generate Sparse Signal\n",
    "\n",
    "This notebook generates a synthetic sparse state vector over time and simulates noisy linear measurements. The output will be used in later notebooks for state estimation using the Kalman filter."
   ]
  },
  {
   "cell_type": "markdown",
   "id": "0c862c5c",
   "metadata": {},
   "source": [
    "## 1. Setup and Imports\n",
    "\n",
    "Create necessary folders and import the required libraries for simulation and plotting."
   ]
  },
  {
   "cell_type": "code",
   "execution_count": null,
   "id": "d09e9780",
   "metadata": {},
   "outputs": [],
   "source": [
    "import numpy as np\n",
    "import matplotlib.pyplot as plt\n",
    "import os\n",
    "\n",
    "# Create folders to store results if they don't exist\n",
    "os.makedirs(\"data\", exist_ok=True)\n",
    "os.makedirs(\"plots\", exist_ok=True)"
   ]
  },
  {
   "cell_type": "markdown",
   "id": "d4535f40",
   "metadata": {},
   "source": [
    "## 2. Define Simulation Parameters\n",
    "\n",
    "Set up the time horizon, state and observation vector sizes, and the level of sparsity.\n"
   ]
  },
  {
   "cell_type": "code",
   "execution_count": null,
   "id": "2dd581ba",
   "metadata": {},
   "outputs": [],
   "source": [
    "# Simulation configuration\n",
    "n_timesteps = 50\n",
    "n_states = 20\n",
    "sparsity = 5\n",
    "n_measurements = 10\n",
    "np.random.seed(0)\n"
   ]
  },
  {
   "cell_type": "markdown",
   "id": "be53f4c1",
   "metadata": {},
   "source": [
    "## 3. Generate Sparse State Vectors\n",
    "\n",
    "Create a sequence of state vectors where only a small subset of elements are active. These evolve with Gaussian noise in a random walk style.\n"
   ]
  },
  {
   "cell_type": "code",
   "execution_count": null,
   "id": "a47b6d89",
   "metadata": {},
   "outputs": [],
   "source": [
    "# Initialize sparse state vector\n",
    "x_true = np.zeros((n_timesteps, n_states))\n",
    "non_zero_indices = np.random.choice(n_states, sparsity, replace=False)\n",
    "\n",
    "# Sparse random walk dynamics\n",
    "for t in range(1, n_timesteps):\n",
    "    x_true[t] = x_true[t-1]\n",
    "    x_true[t, non_zero_indices] += np.random.randn(sparsity) * 0.5\n"
   ]
  },
  {
   "cell_type": "markdown",
   "id": "1a1a24c2",
   "metadata": {},
   "source": [
    "## 4. Generate Observations\n",
    "\n",
    "Create the measurement matrix `H` and simulate observations `y` by adding Gaussian noise.\n"
   ]
  },
  {
   "cell_type": "code",
   "execution_count": null,
   "id": "a216c6d0",
   "metadata": {},
   "outputs": [],
   "source": [
    "# Generate random measurement matrix and observations\n",
    "H = np.random.randn(n_measurements, n_states)\n",
    "R = 0.1 * np.eye(n_measurements)  # measurement noise covariance\n",
    "noise = np.random.multivariate_normal(np.zeros(n_measurements), R, n_timesteps)\n",
    "y = np.dot(x_true, H.T) + noise\n"
   ]
  },
  {
   "cell_type": "markdown",
   "id": "bfa707b5",
   "metadata": {},
   "source": [
    "## 5. Save Data\n",
    "\n",
    "Save generated data to `.npy` files so they can be used in the next notebooks.\n"
   ]
  },
  {
   "cell_type": "code",
   "execution_count": null,
   "id": "5ed85fc8",
   "metadata": {},
   "outputs": [],
   "source": [
    "# Save arrays\n",
    "np.save(\"data/x_true.npy\", x_true)\n",
    "np.save(\"data/y.npy\", y)\n",
    "np.save(\"data/H.npy\", H)\n"
   ]
  },
  {
   "cell_type": "markdown",
   "id": "a62937ea",
   "metadata": {},
   "source": [
    "## 6. Plot True Sparse States\n",
    "\n",
    "Visualize the evolution of the non-zero state variables over time.\n"
   ]
  },
  {
   "cell_type": "code",
   "execution_count": null,
   "id": "a8ad5f8f",
   "metadata": {},
   "outputs": [],
   "source": [
    "# Plot non-zero states\n",
    "plt.figure(figsize=(12, 6))\n",
    "for i in non_zero_indices:\n",
    "    plt.plot(x_true[:, i], label=f\"x[{i}]\")\n",
    "plt.title(\"True Sparse State Evolution\")\n",
    "plt.xlabel(\"Time Step\")\n",
    "plt.ylabel(\"State Value\")\n",
    "plt.legend(ncol=2)\n",
    "plt.grid(True)\n",
    "plt.tight_layout()\n",
    "plt.savefig(\"plots/true_sparse_states.png\")\n",
    "plt.show()\n"
   ]
  }
 ],
 "metadata": {
  "language_info": {
   "name": "python"
  }
 },
 "nbformat": 4,
 "nbformat_minor": 5
}
