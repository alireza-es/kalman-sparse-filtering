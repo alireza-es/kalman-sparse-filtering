{
 "cells": [
  {
   "cell_type": "markdown",
   "id": "11dfef7c",
   "metadata": {},
   "source": [
    "# Generate Sparse Signal\n",
    "This notebook demonstrates how to generate a sparse signal for use in Kalman filtering."
   ]
  },
  {
   "cell_type": "code",
   "execution_count": null,
   "id": "d1f23df2",
   "metadata": {},
   "outputs": [],
   "source": [
    "import numpy as np\n",
    "import matplotlib.pyplot as plt\n",
    "\n",
    "# Generate a sparse signal\n",
    "n = 100\n",
    "sparse_signal = np.zeros(n)\n",
    "sparse_signal[np.random.choice(n, size=10, replace=False)] = np.random.randn(10)\n",
    "\n",
    "# Plot the sparse signal\n",
    "plt.stem(sparse_signal, use_line_collection=True)\n",
    "plt.title('Sparse Signal')\n",
    "plt.show()"
   ]
  }
 ],
 "metadata": {
  "language_info": {
   "name": "python"
  }
 },
 "nbformat": 4,
 "nbformat_minor": 5
}
