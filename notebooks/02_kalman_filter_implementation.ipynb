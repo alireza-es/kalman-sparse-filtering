{
 "cells": [
  {
   "cell_type": "markdown",
   "id": "4cd565aa",
   "metadata": {},
   "source": [
    "# 02 - Standard Kalman Filter Implementation\n",
    "\n",
    "This notebook implements the standard Kalman filter to estimate the sparse hidden state from noisy observations. The filter assumes no prior knowledge of sparsity and uses the linear dynamic model and Gaussian assumptions.\n"
   ]
  },
  {
   "cell_type": "markdown",
   "id": "3bcddc27",
   "metadata": {},
   "source": [
    "## 1. Load Simulation Data\n",
    "\n",
    "Import the NumPy arrays for ground truth state `x_true`, observations `y`, and measurement matrix `H`.\n"
   ]
  },
  {
   "cell_type": "code",
   "execution_count": 1,
   "id": "e11bb3c2",
   "metadata": {},
   "outputs": [],
   "source": [
    "import numpy as np\n",
    "import matplotlib.pyplot as plt\n",
    "import os\n",
    "\n",
    "# Load simulation data\n",
    "x_true = np.load(\"../data/x_true.npy\")\n",
    "y = np.load(\"../data/y.npy\")\n",
    "H = np.load(\"../data/H.npy\")\n",
    "\n",
    "n_timesteps, n_states = x_true.shape\n",
    "n_measurements = y.shape[1]\n"
   ]
  },
  {
   "cell_type": "markdown",
   "id": "fcf6818d",
   "metadata": {},
   "source": [
    "## 2. Initialize Kalman Filter Parameters\n",
    "\n",
    "We assume an identity transition model and Gaussian noise with predefined covariances.\n"
   ]
  },
  {
   "cell_type": "code",
   "execution_count": 2,
   "id": "3e0f2563",
   "metadata": {},
   "outputs": [],
   "source": [
    "A = np.eye(n_states)\n",
    "Q = 0.01 * np.eye(n_states)\n",
    "R = 0.1 * np.eye(n_measurements)\n",
    "I = np.eye(n_states)\n",
    "\n",
    "# Initial estimates\n",
    "x_est = np.zeros((n_timesteps, n_states))\n",
    "P = np.eye(n_states)\n"
   ]
  },
  {
   "cell_type": "markdown",
   "id": "78ce6270",
   "metadata": {},
   "source": [
    "## 3. Apply Standard Kalman Filter\n",
    "\n",
    "Run the recursive prediction-update steps over the entire time horizon.\n"
   ]
  },
  {
   "cell_type": "code",
   "execution_count": null,
   "id": "eaa18631",
   "metadata": {},
   "outputs": [],
   "source": [
    "for t in range(1, n_timesteps):\n",
    "    # Predict\n",
    "    x_pred = A @ x_est[t-1]\n",
    "    P = A @ P @ A.T + Q\n",
    "\n",
    "    # Update\n",
    "    S = H @ P @ H.T + R\n",
    "    K = P @ H.T @ np.linalg.inv(S)\n",
    "    x_est[t] = x_pred + K @ (y[t] - H @ x_pred)\n",
    "    P = (I - K @ H) @ P\n"
   ]
  },
  {
   "cell_type": "markdown",
   "id": "279b6fff",
   "metadata": {},
   "source": [
    "## 4. Save Estimated States\n",
    "\n",
    "Save results for use in later notebooks and plotting.\n"
   ]
  },
  {
   "cell_type": "code",
   "execution_count": null,
   "id": "4d59dff6",
   "metadata": {},
   "outputs": [],
   "source": [
    "np.save(\"../data/x_est_standard.npy\", x_est)\n"
   ]
  },
  {
   "cell_type": "markdown",
   "id": "588c0af5",
   "metadata": {},
   "source": [
    "## 5. Compare True and Estimated States\n",
    "\n",
    "Visualize the estimation result for the active state components.\n"
   ]
  },
  {
   "cell_type": "code",
   "execution_count": null,
   "id": "3102e307",
   "metadata": {},
   "outputs": [],
   "source": [
    "non_zero_indices = np.any(x_true != 0, axis=0).nonzero()[0]\n",
    "\n",
    "plt.figure(figsize=(12, 6))\n",
    "for i in non_zero_indices:\n",
    "    plt.plot(x_true[:, i], label=f\"True x[{i}]\", linestyle=\"--\")\n",
    "    plt.plot(x_est[:, i], label=f\"Est x[{i}]\", linestyle=\"-\")\n",
    "plt.title(\"Standard Kalman Filter: Estimated vs. True States\")\n",
    "plt.xlabel(\"Time Step\")\n",
    "plt.ylabel(\"State Value\")\n",
    "plt.legend(ncol=2, fontsize=\"small\")\n",
    "plt.grid(True)\n",
    "plt.tight_layout()\n",
    "plt.savefig(\"../plots/kf_est_vs_true.png\")\n",
    "plt.show()\n"
   ]
  }
 ],
 "metadata": {
  "kernelspec": {
   "display_name": ".venv",
   "language": "python",
   "name": "python3"
  },
  "language_info": {
   "codemirror_mode": {
    "name": "ipython",
    "version": 3
   },
   "file_extension": ".py",
   "mimetype": "text/x-python",
   "name": "python",
   "nbconvert_exporter": "python",
   "pygments_lexer": "ipython3",
   "version": "3.12.8"
  }
 },
 "nbformat": 4,
 "nbformat_minor": 5
}
